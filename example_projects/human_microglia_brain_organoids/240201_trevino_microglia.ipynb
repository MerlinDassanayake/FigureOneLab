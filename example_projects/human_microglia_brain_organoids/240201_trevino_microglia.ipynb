{
 "cells": [
  {
   "cell_type": "code",
   "execution_count": 1,
   "id": "b3c003c7",
   "metadata": {
    "executionInfo": {
     "elapsed": 11701,
     "status": "ok",
     "timestamp": 1703195601975,
     "user": {
      "displayName": "Dean Lee",
      "userId": "08770626040323150090"
     },
     "user_tz": 300
    },
    "id": "b3c003c7"
   },
   "outputs": [
    {
     "name": "stderr",
     "output_type": "stream",
     "text": [
      "/Library/Frameworks/Python.framework/Versions/3.10/lib/python3.10/site-packages/scvi/_settings.py:63: UserWarning: Since v1.0.0, scvi-tools no longer uses a random seed by default. Run `scvi.settings.seed = 0` to reproduce results from previous versions.\n",
      "  self.seed = seed\n",
      "/Library/Frameworks/Python.framework/Versions/3.10/lib/python3.10/site-packages/scvi/_settings.py:70: UserWarning: Setting `dl_pin_memory_gpu_training` is deprecated in v1.0 and will be removed in v1.1. Please pass in `pin_memory` to the data loaders instead.\n",
      "  self.dl_pin_memory_gpu_training = (\n",
      "/Library/Frameworks/Python.framework/Versions/3.10/lib/python3.10/site-packages/tqdm/auto.py:21: TqdmWarning: IProgress not found. Please update jupyter and ipywidgets. See https://ipywidgets.readthedocs.io/en/stable/user_install.html\n",
      "  from .autonotebook import tqdm as notebook_tqdm\n"
     ]
    }
   ],
   "source": [
    "import os\n",
    "import numpy as np\n",
    "import pandas as pd\n",
    "import scipy\n",
    "import anndata\n",
    "import scanpy as sc\n",
    "import pybiomart\n",
    "import scvi\n",
    "import torch\n",
    "import random\n",
    "import seaborn as sns"
   ]
  },
  {
   "cell_type": "code",
   "execution_count": 2,
   "id": "6c51a02c",
   "metadata": {},
   "outputs": [],
   "source": [
    "def PlotUMAP(adata, markers, layer='log2_counts_scvi', size=2, vmin='p0', vmax='p99'):\n",
    "    for i in range(len(markers)):\n",
    "        sc.pl.umap(adata,\n",
    "                  color=markers[i],\n",
    "                  layer=layer,\n",
    "                  size=size,\n",
    "                  cmap=sns.blend_palette(['lightgray', sns.xkcd_rgb['red orange']], as_cmap=True),\n",
    "                   vmin=vmin, vmax=vmax)"
   ]
  },
  {
   "cell_type": "code",
   "execution_count": 3,
   "id": "6297Yt2ZXwSf",
   "metadata": {
    "colab": {
     "base_uri": "https://localhost:8080/"
    },
    "executionInfo": {
     "elapsed": 26992,
     "status": "ok",
     "timestamp": 1703195676405,
     "user": {
      "displayName": "Dean Lee",
      "userId": "08770626040323150090"
     },
     "user_tz": 300
    },
    "id": "6297Yt2ZXwSf",
    "outputId": "87b6717d-122e-487a-81b5-27d769cd6f80"
   },
   "outputs": [
    {
     "data": {
      "text/plain": [
       "AnnData object with n_obs × n_vars = 57868 × 19215\n",
       "    obs: 'Cell.ID', 'Sample.ID', 'Age', 'Tissue.ID', 'Sample.Type', 'Assay', 'Batch', 'seurat_clusters', 'RNA.Counts', 'RNA.Features', 'Percent.MT', 'Percent.Ribo', 'Cell.Barcode', 'DF_pANN', 'DF_classification', 'DF_pANN_quantile', 'Spliced.Counts', 'Spliced.Features', 'Unspliced.Counts', 'Unspliced.Features', 'Ambiguous.Counts', 'Ambiguous.Features', 'n_genes', '_scvi_batch', '_scvi_labels', 'leiden_scvi', 'CellType'\n",
       "    var: 'n_cells'\n",
       "    uns: 'Age_colors', 'CellType_colors', 'DF_classification_colors', 'Sample.ID_colors', 'Tissue.ID_colors', '_scvi_manager_uuid', '_scvi_uuid', 'leiden', 'leiden_scvi_colors', 'neighbors_scvi', 'umap'\n",
       "    obsm: 'X_scvi', 'X_umap'\n",
       "    layers: 'counts', 'counts_scvi', 'log2_counts', 'log2_counts_scvi'\n",
       "    obsp: 'neighbors_scvi_connectivities', 'neighbors_scvi_distances'"
      ]
     },
     "execution_count": 3,
     "metadata": {},
     "output_type": "execute_result"
    }
   ],
   "source": [
    "adata = sc.read_h5ad('/Users/deanlee/GitHub/FigureOneLab/trevino/outs/231227_trevino_rna_scvi.h5ad')\n",
    "adata"
   ]
  },
  {
   "cell_type": "code",
   "execution_count": 4,
   "id": "4688ae94",
   "metadata": {},
   "outputs": [
    {
     "data": {
      "text/plain": [
       "CellType\n",
       "GluN SCPN        22735\n",
       "GluN CPN          7842\n",
       "IN CGE            4966\n",
       "IN MGE            3943\n",
       "oRG               3660\n",
       "IPC               2751\n",
       "GluN CPN/SCPN     2421\n",
       "vRG               2126\n",
       "mGPC              1512\n",
       "vRG/oRG           1117\n",
       "IN CGE/MGE        1058\n",
       "MG                 896\n",
       "OPC/Oligo          825\n",
       "SP                 763\n",
       "tRG                493\n",
       "Pericyte           440\n",
       "EC                 252\n",
       "VLMC                29\n",
       "Unknown             27\n",
       "RBC                 12\n",
       "Name: count, dtype: int64"
      ]
     },
     "execution_count": 4,
     "metadata": {},
     "output_type": "execute_result"
    }
   ],
   "source": [
    "adata.obs['CellType'].value_counts()"
   ]
  },
  {
   "cell_type": "code",
   "execution_count": 5,
   "id": "539043b3",
   "metadata": {},
   "outputs": [
    {
     "data": {
      "text/plain": [
       "AnnData object with n_obs × n_vars = 896 × 19215\n",
       "    obs: 'Cell.ID', 'Sample.ID', 'Age', 'Tissue.ID', 'Sample.Type', 'Assay', 'Batch', 'seurat_clusters', 'RNA.Counts', 'RNA.Features', 'Percent.MT', 'Percent.Ribo', 'Cell.Barcode', 'DF_pANN', 'DF_classification', 'DF_pANN_quantile', 'Spliced.Counts', 'Spliced.Features', 'Unspliced.Counts', 'Unspliced.Features', 'Ambiguous.Counts', 'Ambiguous.Features', 'n_genes', '_scvi_batch', '_scvi_labels', 'leiden_scvi', 'CellType'\n",
       "    var: 'n_cells'\n",
       "    uns: 'Age_colors', 'CellType_colors', 'DF_classification_colors', 'Sample.ID_colors', 'Tissue.ID_colors', '_scvi_manager_uuid', '_scvi_uuid', 'leiden', 'leiden_scvi_colors', 'neighbors_scvi', 'umap'\n",
       "    obsm: 'X_scvi', 'X_umap'\n",
       "    layers: 'counts', 'counts_scvi', 'log2_counts', 'log2_counts_scvi'\n",
       "    obsp: 'neighbors_scvi_connectivities', 'neighbors_scvi_distances'"
      ]
     },
     "execution_count": 5,
     "metadata": {},
     "output_type": "execute_result"
    }
   ],
   "source": [
    "a = adata.obs['CellType']=='MG'\n",
    "adata_microglia = adata[a,:].copy()\n",
    "adata_microglia"
   ]
  },
  {
   "cell_type": "code",
   "execution_count": 6,
   "id": "8fc32183",
   "metadata": {},
   "outputs": [],
   "source": [
    "# save output\n",
    "adata_microglia.write('/Users/deanlee/GitHub/FigureOneLab/example_projects/human_microglia_brain_organoids/outs/240301_trevino_microglia.h5ad')"
   ]
  },
  {
   "cell_type": "code",
   "execution_count": null,
   "id": "c61c3285",
   "metadata": {},
   "outputs": [],
   "source": []
  }
 ],
 "metadata": {
  "colab": {
   "provenance": []
  },
  "kernelspec": {
   "display_name": "Python 3 (ipykernel)",
   "language": "python",
   "name": "python3"
  },
  "language_info": {
   "codemirror_mode": {
    "name": "ipython",
    "version": 3
   },
   "file_extension": ".py",
   "mimetype": "text/x-python",
   "name": "python",
   "nbconvert_exporter": "python",
   "pygments_lexer": "ipython3",
   "version": "3.10.8"
  }
 },
 "nbformat": 4,
 "nbformat_minor": 5
}
