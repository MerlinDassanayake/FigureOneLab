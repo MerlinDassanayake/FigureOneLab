{
 "cells": [
  {
   "cell_type": "code",
   "execution_count": 1,
   "id": "b3c003c7",
   "metadata": {
    "executionInfo": {
     "elapsed": 11701,
     "status": "ok",
     "timestamp": 1703195601975,
     "user": {
      "displayName": "Dean Lee",
      "userId": "08770626040323150090"
     },
     "user_tz": 300
    },
    "id": "b3c003c7"
   },
   "outputs": [
    {
     "name": "stderr",
     "output_type": "stream",
     "text": [
      "/Library/Frameworks/Python.framework/Versions/3.10/lib/python3.10/site-packages/scvi/_settings.py:63: UserWarning: Since v1.0.0, scvi-tools no longer uses a random seed by default. Run `scvi.settings.seed = 0` to reproduce results from previous versions.\n",
      "  self.seed = seed\n",
      "/Library/Frameworks/Python.framework/Versions/3.10/lib/python3.10/site-packages/scvi/_settings.py:70: UserWarning: Setting `dl_pin_memory_gpu_training` is deprecated in v1.0 and will be removed in v1.1. Please pass in `pin_memory` to the data loaders instead.\n",
      "  self.dl_pin_memory_gpu_training = (\n",
      "/Library/Frameworks/Python.framework/Versions/3.10/lib/python3.10/site-packages/tqdm/auto.py:21: TqdmWarning: IProgress not found. Please update jupyter and ipywidgets. See https://ipywidgets.readthedocs.io/en/stable/user_install.html\n",
      "  from .autonotebook import tqdm as notebook_tqdm\n"
     ]
    }
   ],
   "source": [
    "import os\n",
    "import numpy as np\n",
    "import pandas as pd\n",
    "import scipy\n",
    "import anndata\n",
    "import scanpy as sc\n",
    "import pybiomart\n",
    "import scvi\n",
    "import torch\n",
    "import random\n",
    "import seaborn as sns"
   ]
  },
  {
   "cell_type": "code",
   "execution_count": 2,
   "id": "ff954758",
   "metadata": {},
   "outputs": [],
   "source": [
    "def SampleQC(adata,\n",
    "             min_genes=200,\n",
    "             filter_by_percent_cells=True, percent_cells_threshold=0.1,\n",
    "             filter_by_percent_mt=True, percent_mt_threshold=10):\n",
    "    \n",
    "    n_cells = str(adata.shape[0])\n",
    "    n_genes = str(adata.shape[1])\n",
    "    print('Before QC: ' + n_cells + ' cells, ' + n_genes + ' genes')\n",
    "    \n",
    "    sc.pp.filter_cells(adata, min_genes=min_genes)\n",
    "    if filter_by_percent_cells:\n",
    "        sc.pp.filter_genes(adata, min_cells=round(percent_cells_threshold*adata.shape[0]/100,0))\n",
    "        \n",
    "    adata.layers['counts'] = scipy.sparse.csr_matrix(adata.X.copy())\n",
    "    #adata.layers['log2_counts'] = scipy.sparse.csr_matrix(sc.pp.log1p(adata.layers['counts'],copy(), base=2))\n",
    "    \n",
    "    if filter_by_percent_mt:\n",
    "        adata.var['mt'] = adata.var_names.str.startswith('MT-')\n",
    "        sc.pp.calculate_qc_metrics(adata, qc_vars=['mt'], percent_top=None, log1p=False, inplace=True)\n",
    "        adata.obs.rename(columns={'pct_counts_mt':'percent_mt'}, inplace=True)\n",
    "        adata.var.drop('mt', axis=1, inplace=True)\n",
    "        adata = adata[adata.obs['percent_mt']<percent_mt_threshold,].copy()\n",
    "    \n",
    "    n_cells = str(adata.shape[0])\n",
    "    n_genes = str(adata.shape[1])\n",
    "    print('After QC: ' + n_cells + ' cells, ' + n_genes + ' genes')\n",
    "    \n",
    "    return adata"
   ]
  },
  {
   "cell_type": "code",
   "execution_count": 3,
   "id": "6297Yt2ZXwSf",
   "metadata": {
    "colab": {
     "base_uri": "https://localhost:8080/"
    },
    "executionInfo": {
     "elapsed": 26992,
     "status": "ok",
     "timestamp": 1703195676405,
     "user": {
      "displayName": "Dean Lee",
      "userId": "08770626040323150090"
     },
     "user_tz": 300
    },
    "id": "6297Yt2ZXwSf",
    "outputId": "87b6717d-122e-487a-81b5-27d769cd6f80"
   },
   "outputs": [
    {
     "data": {
      "text/plain": [
       "'/Users/deanlee/GitHub/FigureOneLab/example_projects/human_microglia_brain_organoids'"
      ]
     },
     "execution_count": 3,
     "metadata": {},
     "output_type": "execute_result"
    }
   ],
   "source": [
    "cwd = os.getcwd()\n",
    "cwd"
   ]
  },
  {
   "cell_type": "code",
   "execution_count": 4,
   "id": "7af1b8c1",
   "metadata": {},
   "outputs": [
    {
     "data": {
      "text/html": [
       "<div>\n",
       "<style scoped>\n",
       "    .dataframe tbody tr th:only-of-type {\n",
       "        vertical-align: middle;\n",
       "    }\n",
       "\n",
       "    .dataframe tbody tr th {\n",
       "        vertical-align: top;\n",
       "    }\n",
       "\n",
       "    .dataframe thead th {\n",
       "        text-align: right;\n",
       "    }\n",
       "</style>\n",
       "<table border=\"1\" class=\"dataframe\">\n",
       "  <thead>\n",
       "    <tr style=\"text-align: right;\">\n",
       "      <th></th>\n",
       "      <th>CellID</th>\n",
       "      <th>CellType</th>\n",
       "      <th>SampleID</th>\n",
       "    </tr>\n",
       "  </thead>\n",
       "  <tbody>\n",
       "    <tr>\n",
       "      <th>0</th>\n",
       "      <td>COC_AAACCCACATGAATAG</td>\n",
       "      <td>mesenchym</td>\n",
       "      <td>COC</td>\n",
       "    </tr>\n",
       "    <tr>\n",
       "      <th>1</th>\n",
       "      <td>COC_AAACCCACATGTCTAG</td>\n",
       "      <td>neuroectoderm</td>\n",
       "      <td>COC</td>\n",
       "    </tr>\n",
       "    <tr>\n",
       "      <th>2</th>\n",
       "      <td>COC_AAACCCAGTCACTTCC</td>\n",
       "      <td>mesenchym</td>\n",
       "      <td>COC</td>\n",
       "    </tr>\n",
       "    <tr>\n",
       "      <th>3</th>\n",
       "      <td>COC_AAACCCATCACTCTTA</td>\n",
       "      <td>neuroectoderm</td>\n",
       "      <td>COC</td>\n",
       "    </tr>\n",
       "    <tr>\n",
       "      <th>4</th>\n",
       "      <td>COC_AAACGAACACCTGCTT</td>\n",
       "      <td>mesenchym</td>\n",
       "      <td>COC</td>\n",
       "    </tr>\n",
       "    <tr>\n",
       "      <th>...</th>\n",
       "      <td>...</td>\n",
       "      <td>...</td>\n",
       "      <td>...</td>\n",
       "    </tr>\n",
       "    <tr>\n",
       "      <th>14946</th>\n",
       "      <td>Organoid_TTTGTTGCACCTAAAC</td>\n",
       "      <td>neuroectoderm</td>\n",
       "      <td>Organoid</td>\n",
       "    </tr>\n",
       "    <tr>\n",
       "      <th>14947</th>\n",
       "      <td>Organoid_TTTGTTGCATAGAATG</td>\n",
       "      <td>neuroectoderm</td>\n",
       "      <td>Organoid</td>\n",
       "    </tr>\n",
       "    <tr>\n",
       "      <th>14948</th>\n",
       "      <td>Organoid_TTTGTTGGTACCCACG</td>\n",
       "      <td>mesenchym</td>\n",
       "      <td>Organoid</td>\n",
       "    </tr>\n",
       "    <tr>\n",
       "      <th>14949</th>\n",
       "      <td>Organoid_TTTGTTGGTTGCTCCT</td>\n",
       "      <td>neuroectoderm</td>\n",
       "      <td>Organoid</td>\n",
       "    </tr>\n",
       "    <tr>\n",
       "      <th>14950</th>\n",
       "      <td>Organoid_TTTGTTGTCGCATTGA</td>\n",
       "      <td>cycling</td>\n",
       "      <td>Organoid</td>\n",
       "    </tr>\n",
       "  </tbody>\n",
       "</table>\n",
       "<p>14951 rows × 3 columns</p>\n",
       "</div>"
      ],
      "text/plain": [
       "                          CellID       CellType  SampleID\n",
       "0           COC_AAACCCACATGAATAG      mesenchym       COC\n",
       "1           COC_AAACCCACATGTCTAG  neuroectoderm       COC\n",
       "2           COC_AAACCCAGTCACTTCC      mesenchym       COC\n",
       "3           COC_AAACCCATCACTCTTA  neuroectoderm       COC\n",
       "4           COC_AAACGAACACCTGCTT      mesenchym       COC\n",
       "...                          ...            ...       ...\n",
       "14946  Organoid_TTTGTTGCACCTAAAC  neuroectoderm  Organoid\n",
       "14947  Organoid_TTTGTTGCATAGAATG  neuroectoderm  Organoid\n",
       "14948  Organoid_TTTGTTGGTACCCACG      mesenchym  Organoid\n",
       "14949  Organoid_TTTGTTGGTTGCTCCT  neuroectoderm  Organoid\n",
       "14950  Organoid_TTTGTTGTCGCATTGA        cycling  Organoid\n",
       "\n",
       "[14951 rows x 3 columns]"
      ]
     },
     "execution_count": 4,
     "metadata": {},
     "output_type": "execute_result"
    }
   ],
   "source": [
    "meta1 = pd.read_csv(cwd+'/data/speicher/GSE207608_annotation_cluster.csv.gz', compression='gzip', delimiter=',', header=0)\n",
    "meta1.rename(columns={'Unnamed: 0':'CellID', 'x':'CellType'}, inplace=True)\n",
    "\n",
    "meta2 = pd.read_csv(cwd+'/data/speicher/GSE207608_annotation_sample.csv.gz', compression='gzip', delimiter=',', header=0)\n",
    "meta2.rename(columns={'Unnamed: 0':'CellID', 'x':'SampleID'}, inplace=True)\n",
    "\n",
    "meta = pd.merge(meta1, meta2, on='CellID', how='left')\n",
    "meta['CellID'] = meta['CellID'].str.replace(r'-1_[1-3]', '', regex=True)\n",
    "meta['CellID'] = meta['SampleID'] + '_' + meta['CellID']\n",
    "meta"
   ]
  },
  {
   "cell_type": "code",
   "execution_count": 5,
   "id": "140b1177",
   "metadata": {},
   "outputs": [
    {
     "data": {
      "text/plain": [
       "SampleID\n",
       "Organoid    6642\n",
       "COC         5873\n",
       "MGL         2436\n",
       "Name: count, dtype: int64"
      ]
     },
     "execution_count": 5,
     "metadata": {},
     "output_type": "execute_result"
    }
   ],
   "source": [
    "meta.SampleID.value_counts()"
   ]
  },
  {
   "cell_type": "code",
   "execution_count": 6,
   "id": "05bf12e3",
   "metadata": {},
   "outputs": [
    {
     "data": {
      "text/plain": [
       "CellType\n",
       "neuroectoderm    6929\n",
       "mesenchym        3622\n",
       "microglia        2652\n",
       "cycling          1249\n",
       "epithel           499\n",
       "Name: count, dtype: int64"
      ]
     },
     "execution_count": 6,
     "metadata": {},
     "output_type": "execute_result"
    }
   ],
   "source": [
    "meta.CellType.value_counts()"
   ]
  },
  {
   "cell_type": "code",
   "execution_count": 7,
   "id": "3ef085af",
   "metadata": {},
   "outputs": [
    {
     "name": "stderr",
     "output_type": "stream",
     "text": [
      "/Library/Frameworks/Python.framework/Versions/3.10/lib/python3.10/site-packages/anndata/_core/anndata.py:1899: UserWarning: Variable names are not unique. To make them unique, call `.var_names_make_unique`.\n",
      "  utils.warn_names_duplicates(\"var\")\n",
      "/Library/Frameworks/Python.framework/Versions/3.10/lib/python3.10/site-packages/anndata/_core/anndata.py:1899: UserWarning: Variable names are not unique. To make them unique, call `.var_names_make_unique`.\n",
      "  utils.warn_names_duplicates(\"var\")\n"
     ]
    },
    {
     "data": {
      "text/plain": [
       "AnnData object with n_obs × n_vars = 2436 × 33538\n",
       "    obs: 'CellID', 'CellType', 'SampleID'\n",
       "    var: 'EnsemblID'"
      ]
     },
     "execution_count": 7,
     "metadata": {},
     "output_type": "execute_result"
    }
   ],
   "source": [
    "mgl = sc.read_10x_h5(cwd+'/data/speicher/GSE207608_RAW/GSM6303893_MGL_filtered_feature_bc_matrix.h5')\n",
    "mgl.var.rename(columns={'gene_ids':'EnsemblID'}, inplace=True)\n",
    "mgl.var = mgl.var[['EnsemblID']]\n",
    "mgl.var_names_make_unique()\n",
    "mgl.obs['CellID'] = mgl.obs.index\n",
    "mgl.obs['CellID'] = mgl.obs['CellID'].str.replace(r'-1', '', regex=True)\n",
    "mgl.obs['CellID'] = 'MGL_' + mgl.obs['CellID']\n",
    "mgl = mgl[mgl.obs['CellID'].isin(meta['CellID']),:].copy()\n",
    "mgl.obs = pd.merge(mgl.obs, meta, on='CellID', how='left')\n",
    "mgl"
   ]
  },
  {
   "cell_type": "code",
   "execution_count": 8,
   "id": "6be3c4ed",
   "metadata": {},
   "outputs": [
    {
     "name": "stderr",
     "output_type": "stream",
     "text": [
      "/Library/Frameworks/Python.framework/Versions/3.10/lib/python3.10/site-packages/anndata/_core/anndata.py:1899: UserWarning: Variable names are not unique. To make them unique, call `.var_names_make_unique`.\n",
      "  utils.warn_names_duplicates(\"var\")\n",
      "/Library/Frameworks/Python.framework/Versions/3.10/lib/python3.10/site-packages/anndata/_core/anndata.py:1899: UserWarning: Variable names are not unique. To make them unique, call `.var_names_make_unique`.\n",
      "  utils.warn_names_duplicates(\"var\")\n"
     ]
    },
    {
     "data": {
      "text/html": [
       "<div>\n",
       "<style scoped>\n",
       "    .dataframe tbody tr th:only-of-type {\n",
       "        vertical-align: middle;\n",
       "    }\n",
       "\n",
       "    .dataframe tbody tr th {\n",
       "        vertical-align: top;\n",
       "    }\n",
       "\n",
       "    .dataframe thead th {\n",
       "        text-align: right;\n",
       "    }\n",
       "</style>\n",
       "<table border=\"1\" class=\"dataframe\">\n",
       "  <thead>\n",
       "    <tr style=\"text-align: right;\">\n",
       "      <th></th>\n",
       "      <th>CellID</th>\n",
       "      <th>CellType</th>\n",
       "      <th>SampleID</th>\n",
       "    </tr>\n",
       "  </thead>\n",
       "  <tbody>\n",
       "    <tr>\n",
       "      <th>0</th>\n",
       "      <td>COC_AAACCCACATGAATAG</td>\n",
       "      <td>mesenchym</td>\n",
       "      <td>COC</td>\n",
       "    </tr>\n",
       "    <tr>\n",
       "      <th>1</th>\n",
       "      <td>COC_AAACCCACATGTCTAG</td>\n",
       "      <td>neuroectoderm</td>\n",
       "      <td>COC</td>\n",
       "    </tr>\n",
       "    <tr>\n",
       "      <th>2</th>\n",
       "      <td>COC_AAACCCAGTCACTTCC</td>\n",
       "      <td>mesenchym</td>\n",
       "      <td>COC</td>\n",
       "    </tr>\n",
       "    <tr>\n",
       "      <th>3</th>\n",
       "      <td>COC_AAACCCATCACTCTTA</td>\n",
       "      <td>neuroectoderm</td>\n",
       "      <td>COC</td>\n",
       "    </tr>\n",
       "    <tr>\n",
       "      <th>4</th>\n",
       "      <td>COC_AAACGAACACCTGCTT</td>\n",
       "      <td>mesenchym</td>\n",
       "      <td>COC</td>\n",
       "    </tr>\n",
       "    <tr>\n",
       "      <th>...</th>\n",
       "      <td>...</td>\n",
       "      <td>...</td>\n",
       "      <td>...</td>\n",
       "    </tr>\n",
       "    <tr>\n",
       "      <th>5868</th>\n",
       "      <td>COC_TTTGTTGAGGTACTGG</td>\n",
       "      <td>mesenchym</td>\n",
       "      <td>COC</td>\n",
       "    </tr>\n",
       "    <tr>\n",
       "      <th>5869</th>\n",
       "      <td>COC_TTTGTTGAGTAGGTTA</td>\n",
       "      <td>mesenchym</td>\n",
       "      <td>COC</td>\n",
       "    </tr>\n",
       "    <tr>\n",
       "      <th>5870</th>\n",
       "      <td>COC_TTTGTTGGTACCAGAG</td>\n",
       "      <td>mesenchym</td>\n",
       "      <td>COC</td>\n",
       "    </tr>\n",
       "    <tr>\n",
       "      <th>5871</th>\n",
       "      <td>COC_TTTGTTGGTGACAGGT</td>\n",
       "      <td>mesenchym</td>\n",
       "      <td>COC</td>\n",
       "    </tr>\n",
       "    <tr>\n",
       "      <th>5872</th>\n",
       "      <td>COC_TTTGTTGTCCGTGTAA</td>\n",
       "      <td>neuroectoderm</td>\n",
       "      <td>COC</td>\n",
       "    </tr>\n",
       "  </tbody>\n",
       "</table>\n",
       "<p>5873 rows × 3 columns</p>\n",
       "</div>"
      ],
      "text/plain": [
       "                    CellID       CellType SampleID\n",
       "0     COC_AAACCCACATGAATAG      mesenchym      COC\n",
       "1     COC_AAACCCACATGTCTAG  neuroectoderm      COC\n",
       "2     COC_AAACCCAGTCACTTCC      mesenchym      COC\n",
       "3     COC_AAACCCATCACTCTTA  neuroectoderm      COC\n",
       "4     COC_AAACGAACACCTGCTT      mesenchym      COC\n",
       "...                    ...            ...      ...\n",
       "5868  COC_TTTGTTGAGGTACTGG      mesenchym      COC\n",
       "5869  COC_TTTGTTGAGTAGGTTA      mesenchym      COC\n",
       "5870  COC_TTTGTTGGTACCAGAG      mesenchym      COC\n",
       "5871  COC_TTTGTTGGTGACAGGT      mesenchym      COC\n",
       "5872  COC_TTTGTTGTCCGTGTAA  neuroectoderm      COC\n",
       "\n",
       "[5873 rows x 3 columns]"
      ]
     },
     "execution_count": 8,
     "metadata": {},
     "output_type": "execute_result"
    }
   ],
   "source": [
    "coc = sc.read_10x_h5(cwd+'/data/speicher/GSE207608_RAW/GSM6303895_COC_filtered_feature_bc_matrix.h5')\n",
    "coc.var.rename(columns={'gene_ids':'EnsemblID'}, inplace=True)\n",
    "coc.var = coc.var[['EnsemblID']]\n",
    "coc.var_names_make_unique()\n",
    "coc.obs['CellID'] = coc.obs.index\n",
    "coc.obs['CellID'] = coc.obs['CellID'].str.replace(r'-1', '', regex=True)\n",
    "coc.obs['CellID'] = 'COC_' + coc.obs['CellID']\n",
    "coc = coc[coc.obs['CellID'].isin(meta['CellID']),:].copy()\n",
    "coc.obs = pd.merge(coc.obs, meta, on='CellID', how='left')\n",
    "coc.obs"
   ]
  },
  {
   "cell_type": "code",
   "execution_count": 9,
   "id": "2a810fcc",
   "metadata": {},
   "outputs": [],
   "source": [
    "#org = sc.read_10x_h5(cwd+'/data/speicher/GSE207608_RAW/GSM6303894_Organoid_filtered_feature_bc_matrix.h5')\n",
    "#org.var.rename(columns={'gene_ids':'EnsemblID'}, inplace=True)\n",
    "#org.var = org.var[['EnsemblID']]\n",
    "#org"
   ]
  },
  {
   "cell_type": "code",
   "execution_count": 10,
   "id": "e0848147",
   "metadata": {},
   "outputs": [
    {
     "name": "stderr",
     "output_type": "stream",
     "text": [
      "/Library/Frameworks/Python.framework/Versions/3.10/lib/python3.10/site-packages/anndata/_core/anndata.py:183: ImplicitModificationWarning: Transforming to str index.\n",
      "  warnings.warn(\"Transforming to str index.\", ImplicitModificationWarning)\n",
      "/Library/Frameworks/Python.framework/Versions/3.10/lib/python3.10/site-packages/anndata/_core/anndata.py:1897: UserWarning: Observation names are not unique. To make them unique, call `.obs_names_make_unique`.\n",
      "  utils.warn_names_duplicates(\"obs\")\n"
     ]
    },
    {
     "data": {
      "text/plain": [
       "AnnData object with n_obs × n_vars = 8309 × 33539\n",
       "    obs: 'CellID', 'CellType', 'SampleID'"
      ]
     },
     "execution_count": 10,
     "metadata": {},
     "output_type": "execute_result"
    }
   ],
   "source": [
    "adata = anndata.concat([mgl, coc], join='outer')\n",
    "adata.obs_names_make_unique()\n",
    "adata"
   ]
  },
  {
   "cell_type": "code",
   "execution_count": 11,
   "id": "f07c050e",
   "metadata": {
    "id": "f07c050e"
   },
   "outputs": [
    {
     "name": "stdout",
     "output_type": "stream",
     "text": [
      "Before QC: 8309 cells, 33539 genes\n",
      "After QC: 7988 cells, 20575 genes\n"
     ]
    },
    {
     "data": {
      "text/plain": [
       "AnnData object with n_obs × n_vars = 7988 × 20575\n",
       "    obs: 'CellID', 'CellType', 'SampleID', 'n_genes', 'n_genes_by_counts', 'total_counts', 'total_counts_mt', 'percent_mt'\n",
       "    var: 'n_cells', 'n_cells_by_counts', 'mean_counts', 'pct_dropout_by_counts', 'total_counts'\n",
       "    layers: 'counts'"
      ]
     },
     "execution_count": 11,
     "metadata": {},
     "output_type": "execute_result"
    }
   ],
   "source": [
    "adata = SampleQC(adata,\n",
    "                 min_genes=200,\n",
    "                 filter_by_percent_cells=True, percent_cells_threshold=0.1,\n",
    "                 filter_by_percent_mt=True, percent_mt_threshold=10)\n",
    "adata"
   ]
  },
  {
   "cell_type": "code",
   "execution_count": 12,
   "id": "40e5f66d",
   "metadata": {},
   "outputs": [
    {
     "data": {
      "text/plain": [
       "AnnData object with n_obs × n_vars = 2483 × 20575\n",
       "    obs: 'CellID', 'CellType', 'SampleID', 'n_genes', 'n_genes_by_counts', 'total_counts', 'total_counts_mt', 'percent_mt'\n",
       "    var: 'n_cells', 'n_cells_by_counts', 'mean_counts', 'pct_dropout_by_counts', 'total_counts'\n",
       "    layers: 'counts'"
      ]
     },
     "execution_count": 12,
     "metadata": {},
     "output_type": "execute_result"
    }
   ],
   "source": [
    "adata_microglia = adata[adata.obs['CellType']=='microglia',:].copy()\n",
    "del adata\n",
    "adata_microglia"
   ]
  },
  {
   "cell_type": "code",
   "execution_count": 13,
   "id": "f3baad8a",
   "metadata": {},
   "outputs": [
    {
     "name": "stderr",
     "output_type": "stream",
     "text": [
      "/Library/Frameworks/Python.framework/Versions/3.10/lib/python3.10/abc.py:119: FutureWarning: SparseDataset is deprecated and will be removed in late 2024. It has been replaced by the public classes CSRDataset and CSCDataset.\n",
      "\n",
      "For instance checks, use `isinstance(X, (anndata.experimental.CSRDataset, anndata.experimental.CSCDataset))` instead.\n",
      "\n",
      "For creation, use `anndata.experimental.sparse_dataset(X)` instead.\n",
      "\n",
      "  return _abc_instancecheck(cls, instance)\n",
      "GPU available: False, used: False\n",
      "TPU available: False, using: 0 TPU cores\n",
      "IPU available: False, using: 0 IPUs\n",
      "HPU available: False, using: 0 HPUs\n"
     ]
    },
    {
     "name": "stdout",
     "output_type": "stream",
     "text": [
      "Epoch 1/400:   0%|                                      | 0/400 [00:00<?, ?it/s]"
     ]
    },
    {
     "name": "stderr",
     "output_type": "stream",
     "text": [
      "/Library/Frameworks/Python.framework/Versions/3.10/lib/python3.10/abc.py:119: FutureWarning: SparseDataset is deprecated and will be removed in late 2024. It has been replaced by the public classes CSRDataset and CSCDataset.\n",
      "\n",
      "For instance checks, use `isinstance(X, (anndata.experimental.CSRDataset, anndata.experimental.CSCDataset))` instead.\n",
      "\n",
      "For creation, use `anndata.experimental.sparse_dataset(X)` instead.\n",
      "\n",
      "  return _abc_instancecheck(cls, instance)\n"
     ]
    },
    {
     "name": "stdout",
     "output_type": "stream",
     "text": [
      "Epoch 400/400: 100%|█| 400/400 [1:29:12<00:00, 307.94s/it, v_num=1, train_loss_s"
     ]
    },
    {
     "name": "stderr",
     "output_type": "stream",
     "text": [
      "`Trainer.fit` stopped: `max_epochs=400` reached.\n"
     ]
    },
    {
     "name": "stdout",
     "output_type": "stream",
     "text": [
      "Epoch 400/400: 100%|█| 400/400 [1:29:12<00:00, 13.38s/it, v_num=1, train_loss_st\n",
      "CPU times: user 54min 41s, sys: 7min 29s, total: 1h 2min 11s\n",
      "Wall time: 1h 29min 13s\n"
     ]
    }
   ],
   "source": [
    "%%time\n",
    "random.seed(17)\n",
    "scvi.model.SCVI.setup_anndata(adata_microglia, layer='counts', batch_key='SampleID')\n",
    "scvi_model = scvi.model.SCVI(adata_microglia, n_layers=2, n_latent=30, n_hidden=128, gene_likelihood='nb')\n",
    "scvi_model.train()"
   ]
  },
  {
   "cell_type": "code",
   "execution_count": 14,
   "id": "ba8668e0",
   "metadata": {},
   "outputs": [
    {
     "name": "stdout",
     "output_type": "stream",
     "text": [
      "CPU times: user 1.08 s, sys: 366 ms, total: 1.45 s\n",
      "Wall time: 570 ms\n"
     ]
    }
   ],
   "source": [
    "%%time\n",
    "random.seed(17)\n",
    "adata_microglia.obsm['X_scvi'] = scvi_model.get_latent_representation()\n",
    "adata_microglia.layers['counts_scvi'] = scvi_model.get_normalized_expression(library_size=10000)\n",
    "#adata_microglia.layers['log2_counts_scvi'] = sc.pp.log1p(adata.layers['counts_scvi'].copy(), base=2)"
   ]
  },
  {
   "cell_type": "code",
   "execution_count": 15,
   "id": "659cf307",
   "metadata": {},
   "outputs": [
    {
     "name": "stderr",
     "output_type": "stream",
     "text": [
      "/Library/Frameworks/Python.framework/Versions/3.10/lib/python3.10/site-packages/scanpy/plotting/_tools/scatterplots.py:1251: FutureWarning: The default value of 'ignore' for the `na_action` parameter in pandas.Categorical.map is deprecated and will be changed to 'None' in a future version. Please set na_action to the desired value to avoid seeing this warning\n",
      "  color_vector = pd.Categorical(values.map(color_map))\n",
      "/Library/Frameworks/Python.framework/Versions/3.10/lib/python3.10/site-packages/scanpy/plotting/_tools/scatterplots.py:394: UserWarning: No data for colormapping provided via 'c'. Parameters 'cmap' will be ignored\n",
      "  cax = scatter(\n"
     ]
    },
    {
     "data": {
      "image/png": "[encoded data removed]",
      "text/plain": [
       "<Figure size 640x480 with 1 Axes>"
      ]
     },
     "metadata": {},
     "output_type": "display_data"
    },
    {
     "name": "stdout",
     "output_type": "stream",
     "text": [
      "CPU times: user 8.62 s, sys: 2.57 s, total: 11.2 s\n",
      "Wall time: 13min 20s\n"
     ]
    }
   ],
   "source": [
    "%%time\n",
    "random.seed(17)\n",
    "sc.pp.neighbors(adata_microglia, use_rep='X_scvi', key_added='neighbors_scvi', n_neighbors=20)\n",
    "sc.tl.leiden(adata_microglia, neighbors_key='neighbors_scvi', key_added='leiden_scvi', resolution=3)\n",
    "sc.tl.umap(adata_microglia, neighbors_key='neighbors_scvi')\n",
    "sc.pl.umap(adata_microglia, color=['SampleID'], legend_loc='on data')"
   ]
  },
  {
   "cell_type": "code",
   "execution_count": 16,
   "id": "753b7412",
   "metadata": {},
   "outputs": [],
   "source": [
    "adata_microglia.write(cwd+'/outs/240201_speicher_microglia_scvi.h5ad')\n",
    "scvi_model.save(cwd+'/outs/240201_speicher_microglia_scvi_model/', overwrite=True)"
   ]
  },
  {
   "cell_type": "code",
   "execution_count": null,
   "id": "41614459",
   "metadata": {},
   "outputs": [],
   "source": []
  }
 ],
 "metadata": {
  "colab": {
   "provenance": []
  },
  "kernelspec": {
   "display_name": "Python 3 (ipykernel)",
   "language": "python",
   "name": "python3"
  },
  "language_info": {
   "codemirror_mode": {
    "name": "ipython",
    "version": 3
   },
   "file_extension": ".py",
   "mimetype": "text/x-python",
   "name": "python",
   "nbconvert_exporter": "python",
   "pygments_lexer": "ipython3",
   "version": "3.10.8"
  }
 },
 "nbformat": 4,
 "nbformat_minor": 5
}
