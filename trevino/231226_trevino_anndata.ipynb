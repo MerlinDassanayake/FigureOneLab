{
 "cells": [
  {
   "cell_type": "code",
   "execution_count": null,
   "id": "b3c003c7",
   "metadata": {
    "executionInfo": {
     "elapsed": 11701,
     "status": "ok",
     "timestamp": 1703195601975,
     "user": {
      "displayName": "Dean Lee",
      "userId": "08770626040323150090"
     },
     "user_tz": 300
    },
    "id": "b3c003c7"
   },
   "outputs": [],
   "source": [
    "import os\n",
    "import numpy as np\n",
    "import pandas as pd\n",
    "import scipy\n",
    "import anndata\n",
    "import scanpy as sc\n",
    "import pybiomart\n",
    "import scvi\n",
    "import torch\n",
    "import random\n",
    "import seaborn as sns"
   ]
  },
  {
   "cell_type": "code",
   "execution_count": null,
   "id": "6297Yt2ZXwSf",
   "metadata": {
    "colab": {
     "base_uri": "https://localhost:8080/"
    },
    "executionInfo": {
     "elapsed": 26992,
     "status": "ok",
     "timestamp": 1703195676405,
     "user": {
      "displayName": "Dean Lee",
      "userId": "08770626040323150090"
     },
     "user_tz": 300
    },
    "id": "6297Yt2ZXwSf",
    "outputId": "87b6717d-122e-487a-81b5-27d769cd6f80"
   },
   "outputs": [],
   "source": [
    "cwd = os.getcwd()\n",
    "cwd"
   ]
  },
  {
   "cell_type": "code",
   "execution_count": null,
   "id": "80b848ff",
   "metadata": {
    "colab": {
     "base_uri": "https://localhost:8080/",
     "height": 617
    },
    "executionInfo": {
     "elapsed": 1000,
     "status": "ok",
     "timestamp": 1703195755276,
     "user": {
      "displayName": "Dean Lee",
      "userId": "08770626040323150090"
     },
     "user_tz": 300
    },
    "id": "80b848ff",
    "outputId": "e4711736-eecc-46d3-850c-ea3a5a288197"
   },
   "outputs": [],
   "source": [
    "meta = pd.read_csv(cwd+'/data/GSE162170_rna_cell_metadata.txt.gz', compression='gzip', sep='\\t')\n",
    "meta.index = meta['Cell.ID']\n",
    "meta.index.name = None\n",
    "meta"
   ]
  },
  {
   "cell_type": "code",
   "execution_count": null,
   "id": "ee7766fb",
   "metadata": {
    "colab": {
     "base_uri": "https://localhost:8080/",
     "height": 161
    },
    "executionInfo": {
     "elapsed": 595,
     "status": "ok",
     "timestamp": 1703199075524,
     "user": {
      "displayName": "Dean Lee",
      "userId": "08770626040323150090"
     },
     "user_tz": 300
    },
    "id": "ee7766fb",
    "outputId": "0e3de2e9-fb82-49c2-f4e8-0810c399bbcc"
   },
   "outputs": [],
   "source": [
    "%%time\n",
    "counts = pd.read_csv(cwd+'/data/GSE162170_rna_counts.tsv.gz', compression='gzip', sep='\\t')\n",
    "counts = counts.transpose()\n",
    "counts"
   ]
  },
  {
   "cell_type": "code",
   "execution_count": null,
   "id": "6505a9fa",
   "metadata": {
    "id": "6505a9fa"
   },
   "outputs": [],
   "source": [
    "%%time\n",
    "adata = anndata.AnnData(X=counts,\n",
    "                        obs=meta,\n",
    "                        var=counts.columns.to_frame())\n",
    "adata"
   ]
  },
  {
   "cell_type": "code",
   "execution_count": null,
   "id": "ebbbdc6b",
   "metadata": {
    "id": "ebbbdc6b"
   },
   "outputs": [],
   "source": [
    "%%time\n",
    "a = sc.queries.biomart_annotations('hsapiens', ['ensembl_gene_id','hgnc_symbol'])\n",
    "b = dict(zip(a['ensembl_gene_id'], a['hgnc_symbol']))\n",
    "adata.var['hgnc_symbol'] = adata.var[0].map(b)\n",
    "adata.var.index = adata.var['hgnc_symbol']\n",
    "adata.var.index.name = None\n",
    "adata.var.drop(columns=[0,'hgnc_symbol'], inplace=True)\n",
    "adata.var"
   ]
  },
  {
   "cell_type": "code",
   "execution_count": null,
   "id": "918a29e1",
   "metadata": {},
   "outputs": [],
   "source": [
    "adata.var_names_make_unique"
   ]
  },
  {
   "cell_type": "code",
   "execution_count": null,
   "id": "efa18207",
   "metadata": {},
   "outputs": [],
   "source": [
    "a = ~adata.var.index.isnull()\n",
    "adata = adata[:,a].copy()"
   ]
  },
  {
   "cell_type": "code",
   "execution_count": null,
   "id": "d54ffa62",
   "metadata": {},
   "outputs": [],
   "source": [
    "adata"
   ]
  },
  {
   "cell_type": "code",
   "execution_count": null,
   "id": "f07c050e",
   "metadata": {
    "id": "f07c050e"
   },
   "outputs": [],
   "source": [
    "%%time\n",
    "sc.pp.filter_genes(adata, min_cells=10)\n",
    "sc.pp.filter_cells(adata, min_genes=200)"
   ]
  },
  {
   "cell_type": "code",
   "execution_count": null,
   "id": "259b1f1f",
   "metadata": {},
   "outputs": [],
   "source": [
    "#sc.pp.subsample(adata, n_obs=40000, random_state=0, copy=False)"
   ]
  },
  {
   "cell_type": "code",
   "execution_count": null,
   "id": "e6bed337",
   "metadata": {},
   "outputs": [],
   "source": [
    "%%time\n",
    "adata.X = scipy.sparse.csr_matrix(adata.X.copy())\n",
    "adata.layers['counts'] = scipy.sparse.csr_matrix(adata.X.copy())\n",
    "#adata.layers['log2_counts'] = sc.pp.log1p(adata.layers['counts'].copy(), base=2)"
   ]
  },
  {
   "cell_type": "code",
   "execution_count": null,
   "id": "d38cea09",
   "metadata": {},
   "outputs": [],
   "source": [
    "%%time\n",
    "random.seed(17)\n",
    "scvi.model.SCVI.setup_anndata(adata, layer='counts', batch_key='Sample.ID')\n",
    "scvi_model = scvi.model.SCVI(adata, n_layers=2, n_latent=30, n_hidden=128, gene_likelihood='nb')\n",
    "scvi_model.train()"
   ]
  },
  {
   "cell_type": "code",
   "execution_count": null,
   "id": "4a916c81",
   "metadata": {},
   "outputs": [],
   "source": [
    "%%time\n",
    "random.seed(17)\n",
    "adata.obsm['X_scvi'] = scvi_model.get_latent_representation()\n",
    "adata.layers['counts_scvi'] = scvi_model.get_normalized_expression(library_size=10000)\n",
    "#adata.layers['log2_counts_scvi'] = sc.pp.log1p(adata.layers['counts_scvi'].copy(), base=2)"
   ]
  },
  {
   "cell_type": "code",
   "execution_count": null,
   "id": "cf80d4db",
   "metadata": {},
   "outputs": [],
   "source": [
    "%%time\n",
    "sc.pp.neighbors(adata, use_rep='X_scvi', key_added='neighbors_scvi', n_neighbors=20)\n",
    "sc.tl.leiden(adata, neighbors_key='neighbors_scvi', key_added='leiden_scvi', resolution=3)\n",
    "sc.tl.umap(adata, neighbors_key='neighbors_scvi')\n",
    "sc.pl.umap(adata, color=['leiden_scvi'], legend_loc='on data')"
   ]
  },
  {
   "cell_type": "code",
   "execution_count": null,
   "id": "9376f209",
   "metadata": {},
   "outputs": [],
   "source": [
    "%%time\n",
    "sc.pp.neighbors(adata, use_rep='X_scvi', key_added='neighbors_scvi', n_neighbors=20)\n",
    "sc.tl.leiden(adata, neighbors_key='neighbors_scvi', key_added='leiden_scvi', resolution=3)\n",
    "sc.tl.umap(adata, neighbors_key='neighbors_scvi')\n",
    "sc.pl.umap(adata, color=['leiden_scvi'], legend_loc='on data')"
   ]
  },
  {
   "cell_type": "code",
   "execution_count": null,
   "id": "a133a943",
   "metadata": {},
   "outputs": [],
   "source": [
    "%%time\n",
    "adata.write(cwd+'/outs/231226_trevino_rna_scvi.h5ad')"
   ]
  },
  {
   "cell_type": "code",
   "execution_count": null,
   "id": "c61c3285",
   "metadata": {},
   "outputs": [],
   "source": []
  }
 ],
 "metadata": {
  "colab": {
   "provenance": []
  },
  "kernelspec": {
   "display_name": "Python 3 (ipykernel)",
   "language": "python",
   "name": "python3"
  },
  "language_info": {
   "codemirror_mode": {
    "name": "ipython",
    "version": 3
   },
   "file_extension": ".py",
   "mimetype": "text/x-python",
   "name": "python",
   "nbconvert_exporter": "python",
   "pygments_lexer": "ipython3",
   "version": "3.10.8"
  }
 },
 "nbformat": 4,
 "nbformat_minor": 5
}
