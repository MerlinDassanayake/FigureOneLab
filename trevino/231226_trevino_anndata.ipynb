{
 "cells": [
  {
   "cell_type": "code",
   "id": "b3c003c7",
   "metadata": {
    "executionInfo": {
     "elapsed": 11701,
     "status": "ok",
     "timestamp": 1703195601975,
     "user": {
      "displayName": "Dean Lee",
      "userId": "08770626040323150090"
     },
     "user_tz": 300
    },
    "id": "b3c003c7",
    "ExecuteTime": {
     "end_time": "2025-08-25T21:31:20.377008Z",
     "start_time": "2025-08-25T21:31:12.926418Z"
    }
   },
   "source": [
    "import os\n",
    "import numpy as np\n",
    "import pandas as pd\n",
    "import scipy\n",
    "import anndata\n",
    "import scanpy as sc\n",
    "import pybiomart\n",
    "import scvi\n",
    "import torch\n",
    "import random\n",
    "import seaborn as sns"
   ],
   "outputs": [],
   "execution_count": 2
  },
  {
   "cell_type": "code",
   "id": "6297Yt2ZXwSf",
   "metadata": {
    "colab": {
     "base_uri": "https://localhost:8080/"
    },
    "executionInfo": {
     "elapsed": 26992,
     "status": "ok",
     "timestamp": 1703195676405,
     "user": {
      "displayName": "Dean Lee",
      "userId": "08770626040323150090"
     },
     "user_tz": 300
    },
    "id": "6297Yt2ZXwSf",
    "outputId": "87b6717d-122e-487a-81b5-27d769cd6f80",
    "ExecuteTime": {
     "end_time": "2025-08-25T21:31:24.162263Z",
     "start_time": "2025-08-25T21:31:24.155198Z"
    }
   },
   "source": [
    "cwd = os.getcwd()\n",
    "cwd"
   ],
   "outputs": [
    {
     "data": {
      "text/plain": [
       "'C:\\\\Users\\\\dinus\\\\Desktop\\\\FigureOneLab\\\\trevino'"
      ]
     },
     "execution_count": 3,
     "metadata": {},
     "output_type": "execute_result"
    }
   ],
   "execution_count": 3
  },
  {
   "cell_type": "code",
   "id": "80b848ff",
   "metadata": {
    "colab": {
     "base_uri": "https://localhost:8080/",
     "height": 617
    },
    "executionInfo": {
     "elapsed": 1000,
     "status": "ok",
     "timestamp": 1703195755276,
     "user": {
      "displayName": "Dean Lee",
      "userId": "08770626040323150090"
     },
     "user_tz": 300
    },
    "id": "80b848ff",
    "outputId": "e4711736-eecc-46d3-850c-ea3a5a288197",
    "ExecuteTime": {
     "end_time": "2025-08-25T21:31:27.075166Z",
     "start_time": "2025-08-25T21:31:26.810447Z"
    }
   },
   "source": [
    "meta = pd.read_csv(cwd+'/data/GSE162170_rna_cell_metadata.txt.gz', compression='gzip', sep='\\t')\n",
    "meta.index = meta['Cell.ID']\n",
    "meta.index.name = None\n",
    "meta"
   ],
   "outputs": [
    {
     "data": {
      "text/plain": [
       "                                                       Cell.ID      Sample.ID  \\\n",
       "hft_w20_p3_r1_AAACCCAAGCTGCGAA  hft_w20_p3_r1_AAACCCAAGCTGCGAA  hft_w20_p3_r1   \n",
       "hft_w20_p3_r1_AAACCCAAGGTAGTAT  hft_w20_p3_r1_AAACCCAAGGTAGTAT  hft_w20_p3_r1   \n",
       "hft_w20_p3_r1_AAACCCACAACTCCAA  hft_w20_p3_r1_AAACCCACAACTCCAA  hft_w20_p3_r1   \n",
       "hft_w20_p3_r1_AAACCCACATAGTCAC  hft_w20_p3_r1_AAACCCACATAGTCAC  hft_w20_p3_r1   \n",
       "hft_w20_p3_r1_AAACCCAGTACAGGTG  hft_w20_p3_r1_AAACCCAGTACAGGTG  hft_w20_p3_r1   \n",
       "...                                                        ...            ...   \n",
       "hft_w16_p7_r2_TTTGTTGCAGCACCCA  hft_w16_p7_r2_TTTGTTGCAGCACCCA  hft_w16_p7_r2   \n",
       "hft_w16_p7_r2_TTTGTTGCAGGCTACC  hft_w16_p7_r2_TTTGTTGCAGGCTACC  hft_w16_p7_r2   \n",
       "hft_w16_p7_r2_TTTGTTGGTCGCTTAA  hft_w16_p7_r2_TTTGTTGGTCGCTTAA  hft_w16_p7_r2   \n",
       "hft_w16_p7_r2_TTTGTTGGTCGTACAT  hft_w16_p7_r2_TTTGTTGGTCGTACAT  hft_w16_p7_r2   \n",
       "hft_w16_p7_r2_TTTGTTGGTTAGTTCG  hft_w16_p7_r2_TTTGTTGGTTAGTTCG  hft_w16_p7_r2   \n",
       "\n",
       "                                  Age Tissue.ID Sample.Type   Assay     Batch  \\\n",
       "hft_w20_p3_r1_AAACCCAAGCTGCGAA  pcw20      HFT3         HFT  RNA v3  b2019_06   \n",
       "hft_w20_p3_r1_AAACCCAAGGTAGTAT  pcw20      HFT3         HFT  RNA v3  b2019_06   \n",
       "hft_w20_p3_r1_AAACCCACAACTCCAA  pcw20      HFT3         HFT  RNA v3  b2019_06   \n",
       "hft_w20_p3_r1_AAACCCACATAGTCAC  pcw20      HFT3         HFT  RNA v3  b2019_06   \n",
       "hft_w20_p3_r1_AAACCCAGTACAGGTG  pcw20      HFT3         HFT  RNA v3  b2019_06   \n",
       "...                               ...       ...         ...     ...       ...   \n",
       "hft_w16_p7_r2_TTTGTTGCAGCACCCA  pcw16      HFT7         HFT  RNA NG  b2020_03   \n",
       "hft_w16_p7_r2_TTTGTTGCAGGCTACC  pcw16      HFT7         HFT  RNA NG  b2020_03   \n",
       "hft_w16_p7_r2_TTTGTTGGTCGCTTAA  pcw16      HFT7         HFT  RNA NG  b2020_03   \n",
       "hft_w16_p7_r2_TTTGTTGGTCGTACAT  pcw16      HFT7         HFT  RNA NG  b2020_03   \n",
       "hft_w16_p7_r2_TTTGTTGGTTAGTTCG  pcw16      HFT7         HFT  RNA NG  b2020_03   \n",
       "\n",
       "                               seurat_clusters  RNA.Counts  RNA.Features  ...  \\\n",
       "hft_w20_p3_r1_AAACCCAAGCTGCGAA             c16        1397           677  ...   \n",
       "hft_w20_p3_r1_AAACCCAAGGTAGTAT             c11       14338          4301  ...   \n",
       "hft_w20_p3_r1_AAACCCACAACTCCAA             c17        9260          3481  ...   \n",
       "hft_w20_p3_r1_AAACCCACATAGTCAC              c0        4025          1969  ...   \n",
       "hft_w20_p3_r1_AAACCCAGTACAGGTG              c4        7131          2930  ...   \n",
       "...                                        ...         ...           ...  ...   \n",
       "hft_w16_p7_r2_TTTGTTGCAGCACCCA              c6        8532          3497  ...   \n",
       "hft_w16_p7_r2_TTTGTTGCAGGCTACC              c2        6689          2393  ...   \n",
       "hft_w16_p7_r2_TTTGTTGGTCGCTTAA              c2        3865          1799  ...   \n",
       "hft_w16_p7_r2_TTTGTTGGTCGTACAT              c2        5293          2365  ...   \n",
       "hft_w16_p7_r2_TTTGTTGGTTAGTTCG              c6        5291          2530  ...   \n",
       "\n",
       "                                    Cell.Barcode   DF_pANN DF_classification  \\\n",
       "hft_w20_p3_r1_AAACCCAAGCTGCGAA  AAACCCAAGCTGCGAA  0.086339           Singlet   \n",
       "hft_w20_p3_r1_AAACCCAAGGTAGTAT  AAACCCAAGGTAGTAT  0.325683           Singlet   \n",
       "hft_w20_p3_r1_AAACCCACAACTCCAA  AAACCCACAACTCCAA  0.397814           Doublet   \n",
       "hft_w20_p3_r1_AAACCCACATAGTCAC  AAACCCACATAGTCAC  0.076503           Singlet   \n",
       "hft_w20_p3_r1_AAACCCAGTACAGGTG  AAACCCAGTACAGGTG  0.239344           Singlet   \n",
       "...                                          ...       ...               ...   \n",
       "hft_w16_p7_r2_TTTGTTGCAGCACCCA  TTTGTTGCAGCACCCA  0.389488           Doublet   \n",
       "hft_w16_p7_r2_TTTGTTGCAGGCTACC  TTTGTTGCAGGCTACC  0.210916           Singlet   \n",
       "hft_w16_p7_r2_TTTGTTGGTCGCTTAA  TTTGTTGGTCGCTTAA  0.074798           Singlet   \n",
       "hft_w16_p7_r2_TTTGTTGGTCGTACAT  TTTGTTGGTCGTACAT  0.208895           Singlet   \n",
       "hft_w16_p7_r2_TTTGTTGGTTAGTTCG  TTTGTTGGTTAGTTCG  0.313342           Singlet   \n",
       "\n",
       "                                DF_pANN_quantile Spliced.Counts  \\\n",
       "hft_w20_p3_r1_AAACCCAAGCTGCGAA          0.356997           1063   \n",
       "hft_w20_p3_r1_AAACCCAAGGTAGTAT          0.821429          10339   \n",
       "hft_w20_p3_r1_AAACCCACAACTCCAA          0.984402           6494   \n",
       "hft_w20_p3_r1_AAACCCACATAGTCAC          0.314723           2655   \n",
       "hft_w20_p3_r1_AAACCCAGTACAGGTG          0.746356           5008   \n",
       "...                                          ...            ...   \n",
       "hft_w16_p7_r2_TTTGTTGCAGCACCCA          0.961542           6226   \n",
       "hft_w16_p7_r2_TTTGTTGCAGGCTACC          0.663941           4757   \n",
       "hft_w16_p7_r2_TTTGTTGGTCGCTTAA          0.306766           2808   \n",
       "hft_w16_p7_r2_TTTGTTGGTCGTACAT          0.660796           3660   \n",
       "hft_w16_p7_r2_TTTGTTGGTTAGTTCG          0.837631           3676   \n",
       "\n",
       "                                Spliced.Features  Unspliced.Counts  \\\n",
       "hft_w20_p3_r1_AAACCCAAGCTGCGAA               544                67   \n",
       "hft_w20_p3_r1_AAACCCAAGGTAGTAT              3514              5437   \n",
       "hft_w20_p3_r1_AAACCCACAACTCCAA              2701              6860   \n",
       "hft_w20_p3_r1_AAACCCACATAGTCAC              1475              5875   \n",
       "hft_w20_p3_r1_AAACCCAGTACAGGTG              2228              6026   \n",
       "...                                          ...               ...   \n",
       "hft_w16_p7_r2_TTTGTTGCAGCACCCA              2730              4194   \n",
       "hft_w16_p7_r2_TTTGTTGCAGGCTACC              1877              3039   \n",
       "hft_w16_p7_r2_TTTGTTGGTCGCTTAA              1409              1436   \n",
       "hft_w16_p7_r2_TTTGTTGGTCGTACAT              1760              6166   \n",
       "hft_w16_p7_r2_TTTGTTGGTTAGTTCG              2022              3299   \n",
       "\n",
       "                                Unspliced.Features  Ambiguous.Counts  \\\n",
       "hft_w20_p3_r1_AAACCCAAGCTGCGAA                  54                94   \n",
       "hft_w20_p3_r1_AAACCCAAGGTAGTAT                2526              1431   \n",
       "hft_w20_p3_r1_AAACCCACAACTCCAA                2515              1095   \n",
       "hft_w20_p3_r1_AAACCCACATAGTCAC                2058               634   \n",
       "hft_w20_p3_r1_AAACCCAGTACAGGTG                2106               909   \n",
       "...                                            ...               ...   \n",
       "hft_w16_p7_r2_TTTGTTGCAGCACCCA                2059               973   \n",
       "hft_w16_p7_r2_TTTGTTGCAGGCTACC                1362               677   \n",
       "hft_w16_p7_r2_TTTGTTGGTCGCTTAA                 832               431   \n",
       "hft_w16_p7_r2_TTTGTTGGTCGTACAT                2211               672   \n",
       "hft_w16_p7_r2_TTTGTTGGTTAGTTCG                1658               706   \n",
       "\n",
       "                                Ambiguous.Features  \n",
       "hft_w20_p3_r1_AAACCCAAGCTGCGAA                  69  \n",
       "hft_w20_p3_r1_AAACCCAAGGTAGTAT                 669  \n",
       "hft_w20_p3_r1_AAACCCACAACTCCAA                 669  \n",
       "hft_w20_p3_r1_AAACCCACATAGTCAC                 377  \n",
       "hft_w20_p3_r1_AAACCCAGTACAGGTG                 556  \n",
       "...                                            ...  \n",
       "hft_w16_p7_r2_TTTGTTGCAGCACCCA                 612  \n",
       "hft_w16_p7_r2_TTTGTTGCAGGCTACC                 396  \n",
       "hft_w16_p7_r2_TTTGTTGGTCGCTTAA                 273  \n",
       "hft_w16_p7_r2_TTTGTTGGTCGTACAT                 416  \n",
       "hft_w16_p7_r2_TTTGTTGGTTAGTTCG                 391  \n",
       "\n",
       "[57868 rows x 22 columns]"
      ],
      "text/html": [
       "<div>\n",
       "<style scoped>\n",
       "    .dataframe tbody tr th:only-of-type {\n",
       "        vertical-align: middle;\n",
       "    }\n",
       "\n",
       "    .dataframe tbody tr th {\n",
       "        vertical-align: top;\n",
       "    }\n",
       "\n",
       "    .dataframe thead th {\n",
       "        text-align: right;\n",
       "    }\n",
       "</style>\n",
       "<table border=\"1\" class=\"dataframe\">\n",
       "  <thead>\n",
       "    <tr style=\"text-align: right;\">\n",
       "      <th></th>\n",
       "      <th>Cell.ID</th>\n",
       "      <th>Sample.ID</th>\n",
       "      <th>Age</th>\n",
       "      <th>Tissue.ID</th>\n",
       "      <th>Sample.Type</th>\n",
       "      <th>Assay</th>\n",
       "      <th>Batch</th>\n",
       "      <th>seurat_clusters</th>\n",
       "      <th>RNA.Counts</th>\n",
       "      <th>RNA.Features</th>\n",
       "      <th>...</th>\n",
       "      <th>Cell.Barcode</th>\n",
       "      <th>DF_pANN</th>\n",
       "      <th>DF_classification</th>\n",
       "      <th>DF_pANN_quantile</th>\n",
       "      <th>Spliced.Counts</th>\n",
       "      <th>Spliced.Features</th>\n",
       "      <th>Unspliced.Counts</th>\n",
       "      <th>Unspliced.Features</th>\n",
       "      <th>Ambiguous.Counts</th>\n",
       "      <th>Ambiguous.Features</th>\n",
       "    </tr>\n",
       "  </thead>\n",
       "  <tbody>\n",
       "    <tr>\n",
       "      <th>hft_w20_p3_r1_AAACCCAAGCTGCGAA</th>\n",
       "      <td>hft_w20_p3_r1_AAACCCAAGCTGCGAA</td>\n",
       "      <td>hft_w20_p3_r1</td>\n",
       "      <td>pcw20</td>\n",
       "      <td>HFT3</td>\n",
       "      <td>HFT</td>\n",
       "      <td>RNA v3</td>\n",
       "      <td>b2019_06</td>\n",
       "      <td>c16</td>\n",
       "      <td>1397</td>\n",
       "      <td>677</td>\n",
       "      <td>...</td>\n",
       "      <td>AAACCCAAGCTGCGAA</td>\n",
       "      <td>0.086339</td>\n",
       "      <td>Singlet</td>\n",
       "      <td>0.356997</td>\n",
       "      <td>1063</td>\n",
       "      <td>544</td>\n",
       "      <td>67</td>\n",
       "      <td>54</td>\n",
       "      <td>94</td>\n",
       "      <td>69</td>\n",
       "    </tr>\n",
       "    <tr>\n",
       "      <th>hft_w20_p3_r1_AAACCCAAGGTAGTAT</th>\n",
       "      <td>hft_w20_p3_r1_AAACCCAAGGTAGTAT</td>\n",
       "      <td>hft_w20_p3_r1</td>\n",
       "      <td>pcw20</td>\n",
       "      <td>HFT3</td>\n",
       "      <td>HFT</td>\n",
       "      <td>RNA v3</td>\n",
       "      <td>b2019_06</td>\n",
       "      <td>c11</td>\n",
       "      <td>14338</td>\n",
       "      <td>4301</td>\n",
       "      <td>...</td>\n",
       "      <td>AAACCCAAGGTAGTAT</td>\n",
       "      <td>0.325683</td>\n",
       "      <td>Singlet</td>\n",
       "      <td>0.821429</td>\n",
       "      <td>10339</td>\n",
       "      <td>3514</td>\n",
       "      <td>5437</td>\n",
       "      <td>2526</td>\n",
       "      <td>1431</td>\n",
       "      <td>669</td>\n",
       "    </tr>\n",
       "    <tr>\n",
       "      <th>hft_w20_p3_r1_AAACCCACAACTCCAA</th>\n",
       "      <td>hft_w20_p3_r1_AAACCCACAACTCCAA</td>\n",
       "      <td>hft_w20_p3_r1</td>\n",
       "      <td>pcw20</td>\n",
       "      <td>HFT3</td>\n",
       "      <td>HFT</td>\n",
       "      <td>RNA v3</td>\n",
       "      <td>b2019_06</td>\n",
       "      <td>c17</td>\n",
       "      <td>9260</td>\n",
       "      <td>3481</td>\n",
       "      <td>...</td>\n",
       "      <td>AAACCCACAACTCCAA</td>\n",
       "      <td>0.397814</td>\n",
       "      <td>Doublet</td>\n",
       "      <td>0.984402</td>\n",
       "      <td>6494</td>\n",
       "      <td>2701</td>\n",
       "      <td>6860</td>\n",
       "      <td>2515</td>\n",
       "      <td>1095</td>\n",
       "      <td>669</td>\n",
       "    </tr>\n",
       "    <tr>\n",
       "      <th>hft_w20_p3_r1_AAACCCACATAGTCAC</th>\n",
       "      <td>hft_w20_p3_r1_AAACCCACATAGTCAC</td>\n",
       "      <td>hft_w20_p3_r1</td>\n",
       "      <td>pcw20</td>\n",
       "      <td>HFT3</td>\n",
       "      <td>HFT</td>\n",
       "      <td>RNA v3</td>\n",
       "      <td>b2019_06</td>\n",
       "      <td>c0</td>\n",
       "      <td>4025</td>\n",
       "      <td>1969</td>\n",
       "      <td>...</td>\n",
       "      <td>AAACCCACATAGTCAC</td>\n",
       "      <td>0.076503</td>\n",
       "      <td>Singlet</td>\n",
       "      <td>0.314723</td>\n",
       "      <td>2655</td>\n",
       "      <td>1475</td>\n",
       "      <td>5875</td>\n",
       "      <td>2058</td>\n",
       "      <td>634</td>\n",
       "      <td>377</td>\n",
       "    </tr>\n",
       "    <tr>\n",
       "      <th>hft_w20_p3_r1_AAACCCAGTACAGGTG</th>\n",
       "      <td>hft_w20_p3_r1_AAACCCAGTACAGGTG</td>\n",
       "      <td>hft_w20_p3_r1</td>\n",
       "      <td>pcw20</td>\n",
       "      <td>HFT3</td>\n",
       "      <td>HFT</td>\n",
       "      <td>RNA v3</td>\n",
       "      <td>b2019_06</td>\n",
       "      <td>c4</td>\n",
       "      <td>7131</td>\n",
       "      <td>2930</td>\n",
       "      <td>...</td>\n",
       "      <td>AAACCCAGTACAGGTG</td>\n",
       "      <td>0.239344</td>\n",
       "      <td>Singlet</td>\n",
       "      <td>0.746356</td>\n",
       "      <td>5008</td>\n",
       "      <td>2228</td>\n",
       "      <td>6026</td>\n",
       "      <td>2106</td>\n",
       "      <td>909</td>\n",
       "      <td>556</td>\n",
       "    </tr>\n",
       "    <tr>\n",
       "      <th>...</th>\n",
       "      <td>...</td>\n",
       "      <td>...</td>\n",
       "      <td>...</td>\n",
       "      <td>...</td>\n",
       "      <td>...</td>\n",
       "      <td>...</td>\n",
       "      <td>...</td>\n",
       "      <td>...</td>\n",
       "      <td>...</td>\n",
       "      <td>...</td>\n",
       "      <td>...</td>\n",
       "      <td>...</td>\n",
       "      <td>...</td>\n",
       "      <td>...</td>\n",
       "      <td>...</td>\n",
       "      <td>...</td>\n",
       "      <td>...</td>\n",
       "      <td>...</td>\n",
       "      <td>...</td>\n",
       "      <td>...</td>\n",
       "      <td>...</td>\n",
       "    </tr>\n",
       "    <tr>\n",
       "      <th>hft_w16_p7_r2_TTTGTTGCAGCACCCA</th>\n",
       "      <td>hft_w16_p7_r2_TTTGTTGCAGCACCCA</td>\n",
       "      <td>hft_w16_p7_r2</td>\n",
       "      <td>pcw16</td>\n",
       "      <td>HFT7</td>\n",
       "      <td>HFT</td>\n",
       "      <td>RNA NG</td>\n",
       "      <td>b2020_03</td>\n",
       "      <td>c6</td>\n",
       "      <td>8532</td>\n",
       "      <td>3497</td>\n",
       "      <td>...</td>\n",
       "      <td>TTTGTTGCAGCACCCA</td>\n",
       "      <td>0.389488</td>\n",
       "      <td>Doublet</td>\n",
       "      <td>0.961542</td>\n",
       "      <td>6226</td>\n",
       "      <td>2730</td>\n",
       "      <td>4194</td>\n",
       "      <td>2059</td>\n",
       "      <td>973</td>\n",
       "      <td>612</td>\n",
       "    </tr>\n",
       "    <tr>\n",
       "      <th>hft_w16_p7_r2_TTTGTTGCAGGCTACC</th>\n",
       "      <td>hft_w16_p7_r2_TTTGTTGCAGGCTACC</td>\n",
       "      <td>hft_w16_p7_r2</td>\n",
       "      <td>pcw16</td>\n",
       "      <td>HFT7</td>\n",
       "      <td>HFT</td>\n",
       "      <td>RNA NG</td>\n",
       "      <td>b2020_03</td>\n",
       "      <td>c2</td>\n",
       "      <td>6689</td>\n",
       "      <td>2393</td>\n",
       "      <td>...</td>\n",
       "      <td>TTTGTTGCAGGCTACC</td>\n",
       "      <td>0.210916</td>\n",
       "      <td>Singlet</td>\n",
       "      <td>0.663941</td>\n",
       "      <td>4757</td>\n",
       "      <td>1877</td>\n",
       "      <td>3039</td>\n",
       "      <td>1362</td>\n",
       "      <td>677</td>\n",
       "      <td>396</td>\n",
       "    </tr>\n",
       "    <tr>\n",
       "      <th>hft_w16_p7_r2_TTTGTTGGTCGCTTAA</th>\n",
       "      <td>hft_w16_p7_r2_TTTGTTGGTCGCTTAA</td>\n",
       "      <td>hft_w16_p7_r2</td>\n",
       "      <td>pcw16</td>\n",
       "      <td>HFT7</td>\n",
       "      <td>HFT</td>\n",
       "      <td>RNA NG</td>\n",
       "      <td>b2020_03</td>\n",
       "      <td>c2</td>\n",
       "      <td>3865</td>\n",
       "      <td>1799</td>\n",
       "      <td>...</td>\n",
       "      <td>TTTGTTGGTCGCTTAA</td>\n",
       "      <td>0.074798</td>\n",
       "      <td>Singlet</td>\n",
       "      <td>0.306766</td>\n",
       "      <td>2808</td>\n",
       "      <td>1409</td>\n",
       "      <td>1436</td>\n",
       "      <td>832</td>\n",
       "      <td>431</td>\n",
       "      <td>273</td>\n",
       "    </tr>\n",
       "    <tr>\n",
       "      <th>hft_w16_p7_r2_TTTGTTGGTCGTACAT</th>\n",
       "      <td>hft_w16_p7_r2_TTTGTTGGTCGTACAT</td>\n",
       "      <td>hft_w16_p7_r2</td>\n",
       "      <td>pcw16</td>\n",
       "      <td>HFT7</td>\n",
       "      <td>HFT</td>\n",
       "      <td>RNA NG</td>\n",
       "      <td>b2020_03</td>\n",
       "      <td>c2</td>\n",
       "      <td>5293</td>\n",
       "      <td>2365</td>\n",
       "      <td>...</td>\n",
       "      <td>TTTGTTGGTCGTACAT</td>\n",
       "      <td>0.208895</td>\n",
       "      <td>Singlet</td>\n",
       "      <td>0.660796</td>\n",
       "      <td>3660</td>\n",
       "      <td>1760</td>\n",
       "      <td>6166</td>\n",
       "      <td>2211</td>\n",
       "      <td>672</td>\n",
       "      <td>416</td>\n",
       "    </tr>\n",
       "    <tr>\n",
       "      <th>hft_w16_p7_r2_TTTGTTGGTTAGTTCG</th>\n",
       "      <td>hft_w16_p7_r2_TTTGTTGGTTAGTTCG</td>\n",
       "      <td>hft_w16_p7_r2</td>\n",
       "      <td>pcw16</td>\n",
       "      <td>HFT7</td>\n",
       "      <td>HFT</td>\n",
       "      <td>RNA NG</td>\n",
       "      <td>b2020_03</td>\n",
       "      <td>c6</td>\n",
       "      <td>5291</td>\n",
       "      <td>2530</td>\n",
       "      <td>...</td>\n",
       "      <td>TTTGTTGGTTAGTTCG</td>\n",
       "      <td>0.313342</td>\n",
       "      <td>Singlet</td>\n",
       "      <td>0.837631</td>\n",
       "      <td>3676</td>\n",
       "      <td>2022</td>\n",
       "      <td>3299</td>\n",
       "      <td>1658</td>\n",
       "      <td>706</td>\n",
       "      <td>391</td>\n",
       "    </tr>\n",
       "  </tbody>\n",
       "</table>\n",
       "<p>57868 rows × 22 columns</p>\n",
       "</div>"
      ]
     },
     "execution_count": 4,
     "metadata": {},
     "output_type": "execute_result"
    }
   ],
   "execution_count": 4
  },
  {
   "cell_type": "code",
   "id": "ee7766fb",
   "metadata": {
    "colab": {
     "base_uri": "https://localhost:8080/",
     "height": 161
    },
    "executionInfo": {
     "elapsed": 595,
     "status": "ok",
     "timestamp": 1703199075524,
     "user": {
      "displayName": "Dean Lee",
      "userId": "08770626040323150090"
     },
     "user_tz": 300
    },
    "id": "ee7766fb",
    "outputId": "0e3de2e9-fb82-49c2-f4e8-0810c399bbcc",
    "ExecuteTime": {
     "end_time": "2025-08-25T22:10:53.891636Z",
     "start_time": "2025-08-25T21:50:53.420514Z"
    }
   },
   "source": [
    "%%time\n",
    "# counts = pd.read_csv(cwd+'/data/GSE162170_rna_counts.tsv.gz', compression='gzip', sep='\\t')\n",
    "# counts = counts.transpose()\n",
    "# counts\n",
    "\n",
    "# Using scanpy built in function for better efficiency\n",
    "# One-line optimized version\n",
    "adata = sc.read(cwd+'/data/GSE162170_rna_counts.tsv.gz').transpose()\n",
    "adata.obs = meta  # Add metadata"
   ],
   "outputs": [
    {
     "name": "stdout",
     "output_type": "stream",
     "text": [
      "CPU times: total: 19min 46s\n",
      "Wall time: 20min\n"
     ]
    }
   ],
   "execution_count": 7
  },
  {
   "cell_type": "code",
   "id": "6505a9fa",
   "metadata": {
    "id": "6505a9fa",
    "ExecuteTime": {
     "end_time": "2025-08-25T22:16:35.018476Z",
     "start_time": "2025-08-25T22:16:35.003958Z"
    }
   },
   "source": [
    "%%time\n",
    "print(\"adata.var columns:\", adata.var.columns.tolist())\n",
    "print(\"adata.var head:\")\n",
    "print(adata.var.head())"
   ],
   "outputs": [
    {
     "name": "stdout",
     "output_type": "stream",
     "text": [
      "adata.var columns: []\n",
      "adata.var head:\n",
      "Empty DataFrame\n",
      "Columns: []\n",
      "Index: [ENSG00000243485, ENSG00000237613, ENSG00000186092, ENSG00000238009, ENSG00000239945]\n",
      "CPU times: total: 0 ns\n",
      "Wall time: 1 ms\n"
     ]
    }
   ],
   "execution_count": 10
  },
  {
   "cell_type": "code",
   "id": "ebbbdc6b",
   "metadata": {
    "id": "ebbbdc6b",
    "ExecuteTime": {
     "end_time": "2025-08-25T22:21:43.914041Z",
     "start_time": "2025-08-25T22:21:38.146257Z"
    }
   },
   "source": [
    " %%time\n",
    " # Get biomart annotations\n",
    "a = sc.queries.biomart_annotations('hsapiens', ['ensembl_gene_id','hgnc_symbol'])\n",
    "b = dict(zip(a['ensembl_gene_id'], a['hgnc_symbol']))\n",
    "\n",
    "# Map using the index\n",
    "adata.var['hgnc_symbol'] = adata.var.index.map(b)\n",
    "\n",
    "# Set the new index to HGNC symbols\n",
    "adata.var.index = adata.var['hgnc_symbol']\n",
    "adata.var.index.name = None\n",
    "\n",
    "# Drop the temp hgnc_symbol column\n",
    "adata.var.drop(columns=['hgnc_symbol'], inplace=True)\n",
    "\n",
    "# Check the result\n",
    "adata.var"
   ],
   "outputs": [
    {
     "name": "stdout",
     "output_type": "stream",
     "text": [
      "CPU times: total: 578 ms\n",
      "Wall time: 5.76 s\n"
     ]
    },
    {
     "data": {
      "text/plain": [
       "Empty DataFrame\n",
       "Columns: []\n",
       "Index: [MIR1302-2HG, FAM138A, OR4F5, nan, nan, nan, nan, nan, OR4F29, nan, OR4F16, nan, LINC01409, FAM87B, LINC00115, FAM41C, nan, nan, nan, LINC02593, SAMD11, NOC2L, KLHL17, PLEKHN1, PERM1, nan, HES4, ISG15, nan, AGRN, nan, RNF223, C1orf159, LINC01342, nan, TTLL10-AS1, TTLL10, TNFRSF18, TNFRSF4, SDF4, B3GALT6, C1QTNF12, nan, UBE2J2, LINC01786, SCNN1D, ACAP3, PUSL1, INTS11, CPTP, TAS1R3, DVL1, MXRA8, AURKAIP1, CCNL2, MRPL20, MRPL20-DT, ANKRD65, ANKRD65-AS1, TMEM88B, LINC01770, VWA1, ATAD3C, ATAD3B, ATAD3A, TMEM240, SSU72, SSU72-AS1, FNDC10, nan, MIB2, MMP23B, CDK11B, nan, SLC35E2B, CDK11A, SLC35E2A, NADK, GNB1, GNB1-DT, CALML6, TMEM52, CFAP74, nan, GABRD, PRKCZ-DT, PRKCZ, nan, PRKCZ-AS1, FAAP20, nan, SKI, MORN1, RER1, PEX10, PLCH2, nan, nan, PANK4, HES5, ...]\n",
       "\n",
       "[33355 rows x 0 columns]"
      ],
      "text/html": [
       "<div>\n",
       "<style scoped>\n",
       "    .dataframe tbody tr th:only-of-type {\n",
       "        vertical-align: middle;\n",
       "    }\n",
       "\n",
       "    .dataframe tbody tr th {\n",
       "        vertical-align: top;\n",
       "    }\n",
       "\n",
       "    .dataframe thead th {\n",
       "        text-align: right;\n",
       "    }\n",
       "</style>\n",
       "<table border=\"1\" class=\"dataframe\">\n",
       "  <thead>\n",
       "    <tr style=\"text-align: right;\">\n",
       "      <th></th>\n",
       "    </tr>\n",
       "  </thead>\n",
       "  <tbody>\n",
       "    <tr>\n",
       "      <th>MIR1302-2HG</th>\n",
       "    </tr>\n",
       "    <tr>\n",
       "      <th>FAM138A</th>\n",
       "    </tr>\n",
       "    <tr>\n",
       "      <th>OR4F5</th>\n",
       "    </tr>\n",
       "    <tr>\n",
       "      <th>NaN</th>\n",
       "    </tr>\n",
       "    <tr>\n",
       "      <th>NaN</th>\n",
       "    </tr>\n",
       "    <tr>\n",
       "      <th>...</th>\n",
       "    </tr>\n",
       "    <tr>\n",
       "      <th>MT-ND4L</th>\n",
       "    </tr>\n",
       "    <tr>\n",
       "      <th>MT-ND4</th>\n",
       "    </tr>\n",
       "    <tr>\n",
       "      <th>MT-ND5</th>\n",
       "    </tr>\n",
       "    <tr>\n",
       "      <th>MT-ND6</th>\n",
       "    </tr>\n",
       "    <tr>\n",
       "      <th>MT-CYB</th>\n",
       "    </tr>\n",
       "  </tbody>\n",
       "</table>\n",
       "<p>33355 rows × 0 columns</p>\n",
       "</div>"
      ]
     },
     "execution_count": 12,
     "metadata": {},
     "output_type": "execute_result"
    }
   ],
   "execution_count": 12
  },
  {
   "metadata": {
    "ExecuteTime": {
     "end_time": "2025-08-25T22:26:12.421375Z",
     "start_time": "2025-08-25T22:26:12.140840Z"
    }
   },
   "cell_type": "code",
   "source": [
    "mapped_count = (adata.var.index != adata.var.index.map(lambda x: x if x.startswith(\"ENSG\") else None)).sum()\n",
    "total_genes = len(adata.var)\n",
    "\n",
    "print(f'Successfully mapped {mapped_count} out of {total_genes} genes to HGNC symbols')\n",
    "print(f'{total_genes - mapped_count} genes kept their Ensembl IDs')"
   ],
   "id": "41012f24262c8d4a",
   "outputs": [
    {
     "ename": "AttributeError",
     "evalue": "'float' object has no attribute 'startswith'",
     "output_type": "error",
     "traceback": [
      "\u001B[1;31m---------------------------------------------------------------------------\u001B[0m",
      "\u001B[1;31mAttributeError\u001B[0m                            Traceback (most recent call last)",
      "Cell \u001B[1;32mIn[13], line 1\u001B[0m\n\u001B[1;32m----> 1\u001B[0m mapped_count \u001B[38;5;241m=\u001B[39m (adata\u001B[38;5;241m.\u001B[39mvar\u001B[38;5;241m.\u001B[39mindex \u001B[38;5;241m!=\u001B[39m \u001B[43madata\u001B[49m\u001B[38;5;241;43m.\u001B[39;49m\u001B[43mvar\u001B[49m\u001B[38;5;241;43m.\u001B[39;49m\u001B[43mindex\u001B[49m\u001B[38;5;241;43m.\u001B[39;49m\u001B[43mmap\u001B[49m\u001B[43m(\u001B[49m\u001B[38;5;28;43;01mlambda\u001B[39;49;00m\u001B[43m \u001B[49m\u001B[43mx\u001B[49m\u001B[43m:\u001B[49m\u001B[43m \u001B[49m\u001B[43mx\u001B[49m\u001B[43m \u001B[49m\u001B[38;5;28;43;01mif\u001B[39;49;00m\u001B[43m \u001B[49m\u001B[43mx\u001B[49m\u001B[38;5;241;43m.\u001B[39;49m\u001B[43mstartswith\u001B[49m\u001B[43m(\u001B[49m\u001B[38;5;124;43m\"\u001B[39;49m\u001B[38;5;124;43mENSG\u001B[39;49m\u001B[38;5;124;43m\"\u001B[39;49m\u001B[43m)\u001B[49m\u001B[43m \u001B[49m\u001B[38;5;28;43;01melse\u001B[39;49;00m\u001B[43m \u001B[49m\u001B[38;5;28;43;01mNone\u001B[39;49;00m\u001B[43m)\u001B[49m)\u001B[38;5;241m.\u001B[39msum()\n\u001B[0;32m      2\u001B[0m total_genes \u001B[38;5;241m=\u001B[39m \u001B[38;5;28mlen\u001B[39m(adata\u001B[38;5;241m.\u001B[39mvar)\n\u001B[0;32m      4\u001B[0m \u001B[38;5;28mprint\u001B[39m(\u001B[38;5;124mf\u001B[39m\u001B[38;5;124m'\u001B[39m\u001B[38;5;124mSuccessfully mapped \u001B[39m\u001B[38;5;132;01m{\u001B[39;00mmapped_count\u001B[38;5;132;01m}\u001B[39;00m\u001B[38;5;124m out of \u001B[39m\u001B[38;5;132;01m{\u001B[39;00mtotal_genes\u001B[38;5;132;01m}\u001B[39;00m\u001B[38;5;124m genes to HGNC symbols\u001B[39m\u001B[38;5;124m'\u001B[39m)\n",
      "File \u001B[1;32m~\\anaconda3\\envs\\figure-one-lab\\lib\\site-packages\\pandas\\core\\indexes\\base.py:6537\u001B[0m, in \u001B[0;36mIndex.map\u001B[1;34m(self, mapper, na_action)\u001B[0m\n\u001B[0;32m   6501\u001B[0m \u001B[38;5;250m\u001B[39m\u001B[38;5;124;03m\"\"\"\u001B[39;00m\n\u001B[0;32m   6502\u001B[0m \u001B[38;5;124;03mMap values using an input mapping or function.\u001B[39;00m\n\u001B[0;32m   6503\u001B[0m \n\u001B[1;32m   (...)\u001B[0m\n\u001B[0;32m   6533\u001B[0m \u001B[38;5;124;03mIndex(['A', 'B', 'C'], dtype='object')\u001B[39;00m\n\u001B[0;32m   6534\u001B[0m \u001B[38;5;124;03m\"\"\"\u001B[39;00m\n\u001B[0;32m   6535\u001B[0m \u001B[38;5;28;01mfrom\u001B[39;00m\u001B[38;5;250m \u001B[39m\u001B[38;5;21;01mpandas\u001B[39;00m\u001B[38;5;21;01m.\u001B[39;00m\u001B[38;5;21;01mcore\u001B[39;00m\u001B[38;5;21;01m.\u001B[39;00m\u001B[38;5;21;01mindexes\u001B[39;00m\u001B[38;5;21;01m.\u001B[39;00m\u001B[38;5;21;01mmulti\u001B[39;00m\u001B[38;5;250m \u001B[39m\u001B[38;5;28;01mimport\u001B[39;00m MultiIndex\n\u001B[1;32m-> 6537\u001B[0m new_values \u001B[38;5;241m=\u001B[39m \u001B[38;5;28;43mself\u001B[39;49m\u001B[38;5;241;43m.\u001B[39;49m\u001B[43m_map_values\u001B[49m\u001B[43m(\u001B[49m\u001B[43mmapper\u001B[49m\u001B[43m,\u001B[49m\u001B[43m \u001B[49m\u001B[43mna_action\u001B[49m\u001B[38;5;241;43m=\u001B[39;49m\u001B[43mna_action\u001B[49m\u001B[43m)\u001B[49m\n\u001B[0;32m   6539\u001B[0m \u001B[38;5;66;03m# we can return a MultiIndex\u001B[39;00m\n\u001B[0;32m   6540\u001B[0m \u001B[38;5;28;01mif\u001B[39;00m new_values\u001B[38;5;241m.\u001B[39msize \u001B[38;5;129;01mand\u001B[39;00m \u001B[38;5;28misinstance\u001B[39m(new_values[\u001B[38;5;241m0\u001B[39m], \u001B[38;5;28mtuple\u001B[39m):\n",
      "File \u001B[1;32m~\\anaconda3\\envs\\figure-one-lab\\lib\\site-packages\\pandas\\core\\base.py:925\u001B[0m, in \u001B[0;36mIndexOpsMixin._map_values\u001B[1;34m(self, mapper, na_action, convert)\u001B[0m\n\u001B[0;32m    922\u001B[0m \u001B[38;5;28;01mif\u001B[39;00m \u001B[38;5;28misinstance\u001B[39m(arr, ExtensionArray):\n\u001B[0;32m    923\u001B[0m     \u001B[38;5;28;01mreturn\u001B[39;00m arr\u001B[38;5;241m.\u001B[39mmap(mapper, na_action\u001B[38;5;241m=\u001B[39mna_action)\n\u001B[1;32m--> 925\u001B[0m \u001B[38;5;28;01mreturn\u001B[39;00m \u001B[43malgorithms\u001B[49m\u001B[38;5;241;43m.\u001B[39;49m\u001B[43mmap_array\u001B[49m\u001B[43m(\u001B[49m\u001B[43marr\u001B[49m\u001B[43m,\u001B[49m\u001B[43m \u001B[49m\u001B[43mmapper\u001B[49m\u001B[43m,\u001B[49m\u001B[43m \u001B[49m\u001B[43mna_action\u001B[49m\u001B[38;5;241;43m=\u001B[39;49m\u001B[43mna_action\u001B[49m\u001B[43m,\u001B[49m\u001B[43m \u001B[49m\u001B[43mconvert\u001B[49m\u001B[38;5;241;43m=\u001B[39;49m\u001B[43mconvert\u001B[49m\u001B[43m)\u001B[49m\n",
      "File \u001B[1;32m~\\anaconda3\\envs\\figure-one-lab\\lib\\site-packages\\pandas\\core\\algorithms.py:1743\u001B[0m, in \u001B[0;36mmap_array\u001B[1;34m(arr, mapper, na_action, convert)\u001B[0m\n\u001B[0;32m   1741\u001B[0m values \u001B[38;5;241m=\u001B[39m arr\u001B[38;5;241m.\u001B[39mastype(\u001B[38;5;28mobject\u001B[39m, copy\u001B[38;5;241m=\u001B[39m\u001B[38;5;28;01mFalse\u001B[39;00m)\n\u001B[0;32m   1742\u001B[0m \u001B[38;5;28;01mif\u001B[39;00m na_action \u001B[38;5;129;01mis\u001B[39;00m \u001B[38;5;28;01mNone\u001B[39;00m:\n\u001B[1;32m-> 1743\u001B[0m     \u001B[38;5;28;01mreturn\u001B[39;00m \u001B[43mlib\u001B[49m\u001B[38;5;241;43m.\u001B[39;49m\u001B[43mmap_infer\u001B[49m\u001B[43m(\u001B[49m\u001B[43mvalues\u001B[49m\u001B[43m,\u001B[49m\u001B[43m \u001B[49m\u001B[43mmapper\u001B[49m\u001B[43m,\u001B[49m\u001B[43m \u001B[49m\u001B[43mconvert\u001B[49m\u001B[38;5;241;43m=\u001B[39;49m\u001B[43mconvert\u001B[49m\u001B[43m)\u001B[49m\n\u001B[0;32m   1744\u001B[0m \u001B[38;5;28;01melse\u001B[39;00m:\n\u001B[0;32m   1745\u001B[0m     \u001B[38;5;28;01mreturn\u001B[39;00m lib\u001B[38;5;241m.\u001B[39mmap_infer_mask(\n\u001B[0;32m   1746\u001B[0m         values, mapper, mask\u001B[38;5;241m=\u001B[39misna(values)\u001B[38;5;241m.\u001B[39mview(np\u001B[38;5;241m.\u001B[39muint8), convert\u001B[38;5;241m=\u001B[39mconvert\n\u001B[0;32m   1747\u001B[0m     )\n",
      "File \u001B[1;32mpandas/_libs/lib.pyx:2999\u001B[0m, in \u001B[0;36mpandas._libs.lib.map_infer\u001B[1;34m()\u001B[0m\n",
      "Cell \u001B[1;32mIn[13], line 1\u001B[0m, in \u001B[0;36m<lambda>\u001B[1;34m(x)\u001B[0m\n\u001B[1;32m----> 1\u001B[0m mapped_count \u001B[38;5;241m=\u001B[39m (adata\u001B[38;5;241m.\u001B[39mvar\u001B[38;5;241m.\u001B[39mindex \u001B[38;5;241m!=\u001B[39m adata\u001B[38;5;241m.\u001B[39mvar\u001B[38;5;241m.\u001B[39mindex\u001B[38;5;241m.\u001B[39mmap(\u001B[38;5;28;01mlambda\u001B[39;00m x: x \u001B[38;5;28;01mif\u001B[39;00m \u001B[43mx\u001B[49m\u001B[38;5;241;43m.\u001B[39;49m\u001B[43mstartswith\u001B[49m(\u001B[38;5;124m\"\u001B[39m\u001B[38;5;124mENSG\u001B[39m\u001B[38;5;124m\"\u001B[39m) \u001B[38;5;28;01melse\u001B[39;00m \u001B[38;5;28;01mNone\u001B[39;00m))\u001B[38;5;241m.\u001B[39msum()\n\u001B[0;32m      2\u001B[0m total_genes \u001B[38;5;241m=\u001B[39m \u001B[38;5;28mlen\u001B[39m(adata\u001B[38;5;241m.\u001B[39mvar)\n\u001B[0;32m      4\u001B[0m \u001B[38;5;28mprint\u001B[39m(\u001B[38;5;124mf\u001B[39m\u001B[38;5;124m'\u001B[39m\u001B[38;5;124mSuccessfully mapped \u001B[39m\u001B[38;5;132;01m{\u001B[39;00mmapped_count\u001B[38;5;132;01m}\u001B[39;00m\u001B[38;5;124m out of \u001B[39m\u001B[38;5;132;01m{\u001B[39;00mtotal_genes\u001B[38;5;132;01m}\u001B[39;00m\u001B[38;5;124m genes to HGNC symbols\u001B[39m\u001B[38;5;124m'\u001B[39m)\n",
      "\u001B[1;31mAttributeError\u001B[0m: 'float' object has no attribute 'startswith'"
     ]
    }
   ],
   "execution_count": 13
  },
  {
   "cell_type": "code",
   "id": "918a29e1",
   "metadata": {},
   "source": [
    "adata.var_names_make_unique"
   ],
   "outputs": [],
   "execution_count": null
  },
  {
   "cell_type": "code",
   "id": "efa18207",
   "metadata": {},
   "source": [
    "a = ~adata.var.index.isnull()\n",
    "adata = adata[:,a].copy()"
   ],
   "outputs": [],
   "execution_count": null
  },
  {
   "cell_type": "code",
   "id": "d54ffa62",
   "metadata": {},
   "source": [
    "adata"
   ],
   "outputs": [],
   "execution_count": null
  },
  {
   "cell_type": "code",
   "id": "f07c050e",
   "metadata": {
    "id": "f07c050e"
   },
   "source": [
    "%%time\n",
    "sc.pp.filter_genes(adata, min_cells=10)\n",
    "sc.pp.filter_cells(adata, min_genes=200)"
   ],
   "outputs": [],
   "execution_count": null
  },
  {
   "cell_type": "code",
   "id": "259b1f1f",
   "metadata": {},
   "source": [
    "#sc.pp.subsample(adata, n_obs=40000, random_state=0, copy=False)"
   ],
   "outputs": [],
   "execution_count": null
  },
  {
   "cell_type": "code",
   "id": "e6bed337",
   "metadata": {},
   "source": [
    "%%time\n",
    "adata.X = scipy.sparse.csr_matrix(adata.X.copy())\n",
    "adata.layers['counts'] = scipy.sparse.csr_matrix(adata.X.copy())\n",
    "#adata.layers['log2_counts'] = sc.pp.log1p(adata.layers['counts'].copy(), base=2)"
   ],
   "outputs": [],
   "execution_count": null
  },
  {
   "cell_type": "code",
   "id": "d38cea09",
   "metadata": {},
   "source": [
    "%%time\n",
    "random.seed(17)\n",
    "scvi.model.SCVI.setup_anndata(adata, layer='counts', batch_key='Sample.ID')\n",
    "scvi_model = scvi.model.SCVI(adata, n_layers=2, n_latent=30, n_hidden=128, gene_likelihood='nb')\n",
    "scvi_model.train()"
   ],
   "outputs": [],
   "execution_count": null
  },
  {
   "cell_type": "code",
   "id": "4a916c81",
   "metadata": {},
   "source": [
    "%%time\n",
    "random.seed(17)\n",
    "adata.obsm['X_scvi'] = scvi_model.get_latent_representation()\n",
    "adata.layers['counts_scvi'] = scvi_model.get_normalized_expression(library_size=10000)\n",
    "#adata.layers['log2_counts_scvi'] = sc.pp.log1p(adata.layers['counts_scvi'].copy(), base=2)"
   ],
   "outputs": [],
   "execution_count": null
  },
  {
   "cell_type": "code",
   "id": "cf80d4db",
   "metadata": {},
   "source": [
    "%%time\n",
    "sc.pp.neighbors(adata, use_rep='X_scvi', key_added='neighbors_scvi', n_neighbors=20)\n",
    "sc.tl.leiden(adata, neighbors_key='neighbors_scvi', key_added='leiden_scvi', resolution=3)\n",
    "sc.tl.umap(adata, neighbors_key='neighbors_scvi')\n",
    "sc.pl.umap(adata, color=['leiden_scvi'], legend_loc='on data')"
   ],
   "outputs": [],
   "execution_count": null
  },
  {
   "cell_type": "code",
   "id": "9376f209",
   "metadata": {},
   "source": [
    "%%time\n",
    "sc.pp.neighbors(adata, use_rep='X_scvi', key_added='neighbors_scvi', n_neighbors=20)\n",
    "sc.tl.leiden(adata, neighbors_key='neighbors_scvi', key_added='leiden_scvi', resolution=3)\n",
    "sc.tl.umap(adata, neighbors_key='neighbors_scvi')\n",
    "sc.pl.umap(adata, color=['leiden_scvi'], legend_loc='on data')"
   ],
   "outputs": [],
   "execution_count": null
  },
  {
   "cell_type": "code",
   "id": "a133a943",
   "metadata": {},
   "source": [
    "%%time\n",
    "adata.write(cwd+'/outs/231226_trevino_rna_scvi.h5ad')"
   ],
   "outputs": [],
   "execution_count": null
  },
  {
   "cell_type": "code",
   "id": "c61c3285",
   "metadata": {},
   "source": [],
   "outputs": [],
   "execution_count": null
  }
 ],
 "metadata": {
  "colab": {
   "provenance": []
  },
  "kernelspec": {
   "display_name": "figure-one-lab",
   "language": "python",
   "name": "python3"
  },
  "language_info": {
   "codemirror_mode": {
    "name": "ipython",
    "version": 3
   },
   "file_extension": ".py",
   "mimetype": "text/x-python",
   "name": "python",
   "nbconvert_exporter": "python",
   "pygments_lexer": "ipython3",
   "version": "3.11.13"
  }
 },
 "nbformat": 4,
 "nbformat_minor": 5
}
